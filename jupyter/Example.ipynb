{
 "cells": [
  {
   "cell_type": "code",
   "execution_count": 1,
   "id": "82485ddc",
   "metadata": {},
   "outputs": [],
   "source": [
    "import py_agp\n",
    "import numpy"
   ]
  },
  {
   "cell_type": "code",
   "execution_count": 2,
   "id": "b995d205",
   "metadata": {},
   "outputs": [],
   "source": [
    "prec = 1024\n",
    "\n",
    "ham = py_agp.SparseBiDirectional([(0,0,\"0.5\"), (1,1,\"1.0\")], prec)\n",
    "o0 = py_agp.DenseMatrix(2, [\"1.0\", \"1.0\", \"1.0\", \"2.0\"], prec)"
   ]
  },
  {
   "cell_type": "code",
   "execution_count": 3,
   "id": "495f0267",
   "metadata": {},
   "outputs": [
    {
     "data": {
      "text/plain": [
       "array([[0.41638276, 0.19575699],\n",
       "       [0.07310691, 0.3656125 ]])"
      ]
     },
     "execution_count": 3,
     "metadata": {},
     "output_type": "execute_result"
    }
   ],
   "source": [
    "data =numpy.random.random((2,2))\n",
    "o0 = py_agp.DenseMatrix.new_empty(data.shape[0], prec)\n",
    "\n",
    "for ((r,c), val) in numpy.ndenumerate(data):\n",
    "    o0.set_val(r,c,str(val))\n",
    "    \n",
    "o0.to_numpy()"
   ]
  },
  {
   "cell_type": "code",
   "execution_count": 4,
   "id": "dd1b6978",
   "metadata": {},
   "outputs": [
    {
     "data": {
      "text/plain": [
       "array([[ 0.        , -0.93680341],\n",
       "       [ 0.34985622,  0.        ]])"
      ]
     },
     "execution_count": 4,
     "metadata": {},
     "output_type": "execute_result"
    }
   ],
   "source": [
    "a1 = ham @ o0 - o0 @ ham\n",
    "b1 = a1.norm2()\n",
    "\n",
    "o1 = a1 / b1\n",
    "\n",
    "o1.to_numpy()"
   ]
  },
  {
   "cell_type": "code",
   "execution_count": 5,
   "id": "5f6228bf",
   "metadata": {},
   "outputs": [
    {
     "data": {
      "text/plain": [
       "[1.044813621423257133381658506904406752570225618158394371931609323550655975702722313185583817478710254160021648624504883532012148046905651304445308985822908518530787766329399639873407420541358750948228798392658198541537510630768196980246520183315444506355101446172600954048861470814549858668108866547454317792215e-1]"
      ]
     },
     "execution_count": 5,
     "metadata": {},
     "output_type": "execute_result"
    }
   ],
   "source": [
    "b1"
   ]
  },
  {
   "cell_type": "code",
   "execution_count": 6,
   "id": "2b9143a8",
   "metadata": {},
   "outputs": [
    {
     "data": {
      "text/plain": [
       "0.10448136214232571"
      ]
     },
     "execution_count": 6,
     "metadata": {},
     "output_type": "execute_result"
    }
   ],
   "source": [
    "b1.to_float()"
   ]
  },
  {
   "cell_type": "code",
   "execution_count": 7,
   "id": "025e58b1",
   "metadata": {},
   "outputs": [],
   "source": [
    "prec = 1024\n",
    "\n",
    "n = 10\n",
    "\n",
    "ham = py_agp.SparseBiDirectional([(i,i,\"1.0\") for i in range(2**n)], prec)\n",
    "o0 = py_agp.DenseMatrix(2**n, [\"1.0\"]*(2**(2*n)), prec)"
   ]
  },
  {
   "cell_type": "code",
   "execution_count": 8,
   "id": "543b788c",
   "metadata": {},
   "outputs": [
    {
     "name": "stdout",
     "output_type": "stream",
     "text": [
      "71.2 ms ± 1.88 ms per loop (mean ± std. dev. of 7 runs, 10 loops each)\n"
     ]
    }
   ],
   "source": [
    "%timeit ham @ o0"
   ]
  },
  {
   "cell_type": "code",
   "execution_count": null,
   "id": "c929d382",
   "metadata": {},
   "outputs": [],
   "source": []
  }
 ],
 "metadata": {
  "kernelspec": {
   "display_name": "Python 3 (ipykernel)",
   "language": "python",
   "name": "python3"
  },
  "language_info": {
   "codemirror_mode": {
    "name": "ipython",
    "version": 3
   },
   "file_extension": ".py",
   "mimetype": "text/x-python",
   "name": "python",
   "nbconvert_exporter": "python",
   "pygments_lexer": "ipython3",
   "version": "3.10.4"
  }
 },
 "nbformat": 4,
 "nbformat_minor": 5
}
