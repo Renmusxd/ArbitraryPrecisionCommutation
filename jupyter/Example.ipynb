{
 "cells": [
  {
   "cell_type": "code",
   "execution_count": 13,
   "id": "82485ddc",
   "metadata": {},
   "outputs": [],
   "source": [
    "import py_agp\n",
    "import numpy"
   ]
  },
  {
   "cell_type": "code",
   "execution_count": 14,
   "id": "b995d205",
   "metadata": {},
   "outputs": [],
   "source": [
    "prec = 1024\n",
    "\n",
    "ham = py_agp.SparseBiDirectional([(0,0,\"0.5\"), (1,1,\"1.0\")], prec)\n",
    "o0 = py_agp.DenseMatrix(2, [\"1.0\", \"1.0\", \"1.0\", \"2.0\"], prec)"
   ]
  },
  {
   "cell_type": "code",
   "execution_count": 15,
   "id": "495f0267",
   "metadata": {},
   "outputs": [
    {
     "data": {
      "text/plain": [
       "array([[0.56671156, 0.51263432],\n",
       "       [0.63837365, 0.54423728]])"
      ]
     },
     "execution_count": 15,
     "metadata": {},
     "output_type": "execute_result"
    }
   ],
   "source": [
    "data =numpy.random.random((2,2))\n",
    "o0 = py_agp.DenseMatrix.new_empty(data.shape[0], prec)\n",
    "\n",
    "for ((r,c), val) in numpy.ndenumerate(data):\n",
    "    o0.set_val(r,c,str(val))\n",
    "    \n",
    "o0.to_numpy()"
   ]
  },
  {
   "cell_type": "code",
   "execution_count": 16,
   "id": "dd1b6978",
   "metadata": {},
   "outputs": [
    {
     "data": {
      "text/plain": [
       "array([[ 0.        , -0.62613539],\n",
       "       [ 0.77971435,  0.        ]])"
      ]
     },
     "execution_count": 16,
     "metadata": {},
     "output_type": "execute_result"
    }
   ],
   "source": [
    "a1 = ham @ o0 - o0 @ ham\n",
    "b1 = a1.norm2()\n",
    "\n",
    "o1 = a1 / b1\n",
    "\n",
    "o1.to_numpy()"
   ]
  },
  {
   "cell_type": "code",
   "execution_count": 17,
   "id": "5f6228bf",
   "metadata": {},
   "outputs": [
    {
     "data": {
      "text/plain": [
       "[4.093637909494357379559702364424253524140034002065317891133884659403638263685021157587681808408009173855389837097435550811594278200634986129001630975601325544144353066175483661613051515166424884196818725050350555780787691832813051672223999550874358245820294141370693505844341363926269687687855012536632815902860e-1]"
      ]
     },
     "execution_count": 17,
     "metadata": {},
     "output_type": "execute_result"
    }
   ],
   "source": [
    "b1"
   ]
  },
  {
   "cell_type": "code",
   "execution_count": 18,
   "id": "2b9143a8",
   "metadata": {},
   "outputs": [
    {
     "data": {
      "text/plain": [
       "0.40936379094943576"
      ]
     },
     "execution_count": 18,
     "metadata": {},
     "output_type": "execute_result"
    }
   ],
   "source": [
    "b1.to_float()"
   ]
  },
  {
   "cell_type": "code",
   "execution_count": 19,
   "id": "025e58b1",
   "metadata": {},
   "outputs": [],
   "source": [
    "prec = 1024\n",
    "\n",
    "n = 10\n",
    "\n",
    "ham = py_agp.SparseBiDirectional([(i,i,\"1.0\") for i in range(2**n)], prec)\n",
    "o0 = py_agp.DenseMatrix(2**n, [\"1.0\"]*(2**(2*n)), prec)"
   ]
  },
  {
   "cell_type": "code",
   "execution_count": 20,
   "id": "543b788c",
   "metadata": {},
   "outputs": [
    {
     "name": "stdout",
     "output_type": "stream",
     "text": [
      "71.6 ms ± 3.65 ms per loop (mean ± std. dev. of 7 runs, 10 loops each)\n"
     ]
    }
   ],
   "source": [
    "%timeit ham @ o0"
   ]
  },
  {
   "cell_type": "code",
   "execution_count": null,
   "id": "c929d382",
   "metadata": {},
   "outputs": [],
   "source": []
  }
 ],
 "metadata": {
  "kernelspec": {
   "display_name": "Python 3 (ipykernel)",
   "language": "python",
   "name": "python3"
  },
  "language_info": {
   "codemirror_mode": {
    "name": "ipython",
    "version": 3
   },
   "file_extension": ".py",
   "mimetype": "text/x-python",
   "name": "python",
   "nbconvert_exporter": "python",
   "pygments_lexer": "ipython3",
   "version": "3.10.4"
  }
 },
 "nbformat": 4,
 "nbformat_minor": 5
}
