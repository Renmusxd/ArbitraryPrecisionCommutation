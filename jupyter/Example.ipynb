{
 "cells": [
  {
   "cell_type": "code",
   "execution_count": 1,
   "id": "82485ddc",
   "metadata": {},
   "outputs": [],
   "source": [
    "import py_commute\n",
    "import numpy"
   ]
  },
  {
   "cell_type": "code",
   "execution_count": 2,
   "id": "b995d205",
   "metadata": {},
   "outputs": [],
   "source": [
    "prec = 1024\n",
    "\n",
    "ham = py_commute.SparseBiDirectional([(0,0,\"0.5\"), (1,1,\"1.0\")], prec)\n",
    "o0 = py_commute.DenseMatrix(2, [\"1.0\", \"1.0\", \"1.0\", \"2.0\"], prec)"
   ]
  },
  {
   "cell_type": "code",
   "execution_count": 3,
   "id": "dd1b6978",
   "metadata": {},
   "outputs": [
    {
     "data": {
      "text/plain": [
       "array([[ 0.        , -0.70710678],\n",
       "       [ 0.70710678,  0.        ]])"
      ]
     },
     "execution_count": 3,
     "metadata": {},
     "output_type": "execute_result"
    }
   ],
   "source": [
    "a1 = ham @ o0 - o0 @ ham\n",
    "b1 = a1.norm2()\n",
    "\n",
    "o1 = a1 / b1\n",
    "\n",
    "o1.to_numpy()"
   ]
  },
  {
   "cell_type": "code",
   "execution_count": 4,
   "id": "5f6228bf",
   "metadata": {},
   "outputs": [
    {
     "data": {
      "text/plain": [
       "[7.071067811865475244008443621048490392848359376884740365883398689953662392310535194251937671638207863675069231154561485124624180279253686063220607485499679157066113329637527963778999752505763910302857350547799858029851372672984310073642587093204445993047761646152421543571607254198813018139976257039948436267010e-1]"
      ]
     },
     "execution_count": 4,
     "metadata": {},
     "output_type": "execute_result"
    }
   ],
   "source": [
    "b1"
   ]
  },
  {
   "cell_type": "code",
   "execution_count": 5,
   "id": "2b9143a8",
   "metadata": {},
   "outputs": [
    {
     "data": {
      "text/plain": [
       "0.7071067811865476"
      ]
     },
     "execution_count": 5,
     "metadata": {},
     "output_type": "execute_result"
    }
   ],
   "source": [
    "b1.to_float()"
   ]
  },
  {
   "cell_type": "code",
   "execution_count": 6,
   "id": "025e58b1",
   "metadata": {},
   "outputs": [],
   "source": [
    "prec = 1024\n",
    "\n",
    "n = 13\n",
    "\n",
    "ham = py_commute.SparseBiDirectional([(i,i,\"1.0\") for i in range(2**n)], prec)\n",
    "o0 = py_commute.DenseMatrix(2**n, [\"1.0\"]*(2**(2*n)), prec)"
   ]
  },
  {
   "cell_type": "code",
   "execution_count": 7,
   "id": "543b788c",
   "metadata": {},
   "outputs": [
    {
     "name": "stdout",
     "output_type": "stream",
     "text": [
      "4.59 s ± 159 ms per loop (mean ± std. dev. of 7 runs, 1 loop each)\n"
     ]
    }
   ],
   "source": [
    "%timeit ham @ o0"
   ]
  },
  {
   "cell_type": "code",
   "execution_count": null,
   "id": "c929d382",
   "metadata": {},
   "outputs": [],
   "source": []
  }
 ],
 "metadata": {
  "kernelspec": {
   "display_name": "Python 3 (ipykernel)",
   "language": "python",
   "name": "python3"
  },
  "language_info": {
   "codemirror_mode": {
    "name": "ipython",
    "version": 3
   },
   "file_extension": ".py",
   "mimetype": "text/x-python",
   "name": "python",
   "nbconvert_exporter": "python",
   "pygments_lexer": "ipython3",
   "version": "3.10.4"
  }
 },
 "nbformat": 4,
 "nbformat_minor": 5
}
