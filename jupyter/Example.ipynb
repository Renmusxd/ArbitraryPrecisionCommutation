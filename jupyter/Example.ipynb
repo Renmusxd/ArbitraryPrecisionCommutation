{
 "cells": [
  {
   "cell_type": "code",
   "execution_count": 1,
   "id": "82485ddc",
   "metadata": {},
   "outputs": [],
   "source": [
    "import py_agp\n",
    "import numpy"
   ]
  },
  {
   "cell_type": "code",
   "execution_count": 2,
   "id": "b995d205",
   "metadata": {},
   "outputs": [],
   "source": [
    "prec = 1024\n",
    "\n",
    "ham = py_agp.SparseBiDirectional([(0,0,\"0.5\"), (1,1,\"1.0\")], prec)\n",
    "o0 = py_agp.DenseMatrix(2, [\"1.0\", \"1.0\", \"1.0\", \"2.0\"], prec)"
   ]
  },
  {
   "cell_type": "code",
   "execution_count": 3,
   "id": "495f0267",
   "metadata": {},
   "outputs": [
    {
     "data": {
      "text/plain": [
       "array([[0.55332281, 0.24145453],\n",
       "       [0.6195527 , 0.04743092]])"
      ]
     },
     "execution_count": 3,
     "metadata": {},
     "output_type": "execute_result"
    }
   ],
   "source": [
    "data =numpy.random.random((2,2))\n",
    "o0 = py_agp.DenseMatrix.new_empty(data.shape[0], prec)\n",
    "\n",
    "for ((r,c), val) in numpy.ndenumerate(data):\n",
    "    o0.set_val(r,c,str(val))\n",
    "    \n",
    "o0.to_numpy()"
   ]
  },
  {
   "cell_type": "code",
   "execution_count": 4,
   "id": "dd1b6978",
   "metadata": {},
   "outputs": [
    {
     "data": {
      "text/plain": [
       "array([[ 0.        , -0.36312202],\n",
       "       [ 0.93174159,  0.        ]])"
      ]
     },
     "execution_count": 4,
     "metadata": {},
     "output_type": "execute_result"
    }
   ],
   "source": [
    "a1 = ham @ o0 - o0 @ ham\n",
    "b1 = a1.norm2()\n",
    "\n",
    "o1 = a1 / b1\n",
    "\n",
    "o1.to_numpy()"
   ]
  },
  {
   "cell_type": "code",
   "execution_count": 5,
   "id": "5f6228bf",
   "metadata": {},
   "outputs": [
    {
     "data": {
      "text/plain": [
       "[3.324702388656319885334623420596790687094613200028490531923060718387693503254195860115355908267317505765326673782562179302570611730181230157496278329426070449377956376524845343260743925787589932179636055316424066133794076529856917769144875181647986927293630179596175045748353715710751567607697276573637160280255e-1]"
      ]
     },
     "execution_count": 5,
     "metadata": {},
     "output_type": "execute_result"
    }
   ],
   "source": [
    "b1"
   ]
  },
  {
   "cell_type": "code",
   "execution_count": 6,
   "id": "2b9143a8",
   "metadata": {},
   "outputs": [
    {
     "data": {
      "text/plain": [
       "0.332470238865632"
      ]
     },
     "execution_count": 6,
     "metadata": {},
     "output_type": "execute_result"
    }
   ],
   "source": [
    "b1.to_float()"
   ]
  },
  {
   "cell_type": "code",
   "execution_count": 7,
   "id": "025e58b1",
   "metadata": {},
   "outputs": [],
   "source": [
    "prec = 1024\n",
    "\n",
    "n = 10\n",
    "\n",
    "ham = py_agp.SparseBiDirectional([(i,i,\"1.0\") for i in range(2**n)], prec)\n",
    "o0 = py_agp.DenseMatrix(2**n, [\"1.0\"]*(2**(2*n)), prec)"
   ]
  },
  {
   "cell_type": "code",
   "execution_count": null,
   "id": "543b788c",
   "metadata": {},
   "outputs": [],
   "source": [
    "%timeit ham @ o0"
   ]
  },
  {
   "cell_type": "code",
   "execution_count": null,
   "id": "c929d382",
   "metadata": {},
   "outputs": [],
   "source": []
  }
 ],
 "metadata": {
  "kernelspec": {
   "display_name": "Python 3 (ipykernel)",
   "language": "python",
   "name": "python3"
  },
  "language_info": {
   "codemirror_mode": {
    "name": "ipython",
    "version": 3
   },
   "file_extension": ".py",
   "mimetype": "text/x-python",
   "name": "python",
   "nbconvert_exporter": "python",
   "pygments_lexer": "ipython3",
   "version": "3.10.4"
  }
 },
 "nbformat": 4,
 "nbformat_minor": 5
}
